{
 "cells": [
  {
   "cell_type": "code",
   "execution_count": 1,
   "metadata": {},
   "outputs": [],
   "source": [
    "import numpy as np\n",
    "import pandas as pd\n",
    "import matplotlib.pyplot as plt\n",
    "import seaborn as sns"
   ]
  },
  {
   "cell_type": "code",
   "execution_count": 2,
   "metadata": {},
   "outputs": [],
   "source": [
    "df=pd.read_csv(\"F:\\\\regression_train.csv\")"
   ]
  },
  {
   "cell_type": "code",
   "execution_count": null,
   "metadata": {},
   "outputs": [],
   "source": [
    "# EDA (Exploratory data analysis)"
   ]
  },
  {
   "cell_type": "code",
   "execution_count": 13,
   "metadata": {},
   "outputs": [
    {
     "data": {
      "text/plain": [
       "(9999, 9)"
      ]
     },
     "execution_count": 13,
     "metadata": {},
     "output_type": "execute_result"
    }
   ],
   "source": [
    "df.shape"
   ]
  },
  {
   "cell_type": "code",
   "execution_count": 3,
   "metadata": {},
   "outputs": [
    {
     "data": {
      "text/html": [
       "<div>\n",
       "<style scoped>\n",
       "    .dataframe tbody tr th:only-of-type {\n",
       "        vertical-align: middle;\n",
       "    }\n",
       "\n",
       "    .dataframe tbody tr th {\n",
       "        vertical-align: top;\n",
       "    }\n",
       "\n",
       "    .dataframe thead th {\n",
       "        text-align: right;\n",
       "    }\n",
       "</style>\n",
       "<table border=\"1\" class=\"dataframe\">\n",
       "  <thead>\n",
       "    <tr style=\"text-align: right;\">\n",
       "      <th></th>\n",
       "      <th>data1</th>\n",
       "      <th>data2</th>\n",
       "      <th>data3</th>\n",
       "      <th>data4</th>\n",
       "      <th>data5</th>\n",
       "      <th>data6</th>\n",
       "      <th>data7</th>\n",
       "      <th>data8</th>\n",
       "      <th>data9</th>\n",
       "      <th>data10</th>\n",
       "      <th>output</th>\n",
       "    </tr>\n",
       "  </thead>\n",
       "  <tbody>\n",
       "    <tr>\n",
       "      <th>0</th>\n",
       "      <td>8</td>\n",
       "      <td>279</td>\n",
       "      <td>C</td>\n",
       "      <td>14.451155</td>\n",
       "      <td>1139.0</td>\n",
       "      <td>1.0</td>\n",
       "      <td>9.302908</td>\n",
       "      <td>1.0</td>\n",
       "      <td>M</td>\n",
       "      <td>p</td>\n",
       "      <td>86.108947</td>\n",
       "    </tr>\n",
       "    <tr>\n",
       "      <th>1</th>\n",
       "      <td>1</td>\n",
       "      <td>108</td>\n",
       "      <td>H</td>\n",
       "      <td>14.207448</td>\n",
       "      <td>1656.0</td>\n",
       "      <td>1.0</td>\n",
       "      <td>7.220130</td>\n",
       "      <td>0.0</td>\n",
       "      <td>M</td>\n",
       "      <td>p</td>\n",
       "      <td>42.606833</td>\n",
       "    </tr>\n",
       "    <tr>\n",
       "      <th>2</th>\n",
       "      <td>8</td>\n",
       "      <td>258</td>\n",
       "      <td>A</td>\n",
       "      <td>19.220830</td>\n",
       "      <td>2817.0</td>\n",
       "      <td>1.0</td>\n",
       "      <td>8.727214</td>\n",
       "      <td>1.0</td>\n",
       "      <td>M</td>\n",
       "      <td>p</td>\n",
       "      <td>85.625961</td>\n",
       "    </tr>\n",
       "    <tr>\n",
       "      <th>3</th>\n",
       "      <td>4</td>\n",
       "      <td>147</td>\n",
       "      <td>A</td>\n",
       "      <td>15.752732</td>\n",
       "      <td>1948.0</td>\n",
       "      <td>1.0</td>\n",
       "      <td>6.078818</td>\n",
       "      <td>1.0</td>\n",
       "      <td>M</td>\n",
       "      <td>p</td>\n",
       "      <td>53.656277</td>\n",
       "    </tr>\n",
       "    <tr>\n",
       "      <th>4</th>\n",
       "      <td>5</td>\n",
       "      <td>230</td>\n",
       "      <td>H</td>\n",
       "      <td>10.195407</td>\n",
       "      <td>1336.0</td>\n",
       "      <td>1.0</td>\n",
       "      <td>4.749185</td>\n",
       "      <td>0.0</td>\n",
       "      <td>M</td>\n",
       "      <td>p</td>\n",
       "      <td>64.925051</td>\n",
       "    </tr>\n",
       "  </tbody>\n",
       "</table>\n",
       "</div>"
      ],
      "text/plain": [
       "   data1  data2 data3      data4   data5  data6     data7  data8 data9 data10  \\\n",
       "0      8    279     C  14.451155  1139.0    1.0  9.302908    1.0     M      p   \n",
       "1      1    108     H  14.207448  1656.0    1.0  7.220130    0.0     M      p   \n",
       "2      8    258     A  19.220830  2817.0    1.0  8.727214    1.0     M      p   \n",
       "3      4    147     A  15.752732  1948.0    1.0  6.078818    1.0     M      p   \n",
       "4      5    230     H  10.195407  1336.0    1.0  4.749185    0.0     M      p   \n",
       "\n",
       "      output  \n",
       "0  86.108947  \n",
       "1  42.606833  \n",
       "2  85.625961  \n",
       "3  53.656277  \n",
       "4  64.925051  "
      ]
     },
     "execution_count": 3,
     "metadata": {},
     "output_type": "execute_result"
    }
   ],
   "source": [
    "df.head()"
   ]
  },
  {
   "cell_type": "code",
   "execution_count": 13,
   "metadata": {},
   "outputs": [
    {
     "data": {
      "text/html": [
       "<div>\n",
       "<style scoped>\n",
       "    .dataframe tbody tr th:only-of-type {\n",
       "        vertical-align: middle;\n",
       "    }\n",
       "\n",
       "    .dataframe tbody tr th {\n",
       "        vertical-align: top;\n",
       "    }\n",
       "\n",
       "    .dataframe thead th {\n",
       "        text-align: right;\n",
       "    }\n",
       "</style>\n",
       "<table border=\"1\" class=\"dataframe\">\n",
       "  <thead>\n",
       "    <tr style=\"text-align: right;\">\n",
       "      <th></th>\n",
       "      <th>data1</th>\n",
       "      <th>data2</th>\n",
       "      <th>data4</th>\n",
       "      <th>data5</th>\n",
       "      <th>data6</th>\n",
       "      <th>data7</th>\n",
       "      <th>data8</th>\n",
       "      <th>output</th>\n",
       "    </tr>\n",
       "  </thead>\n",
       "  <tbody>\n",
       "    <tr>\n",
       "      <th>count</th>\n",
       "      <td>9997.000000</td>\n",
       "      <td>9997.000000</td>\n",
       "      <td>9997.000000</td>\n",
       "      <td>9997.000000</td>\n",
       "      <td>9997.000000</td>\n",
       "      <td>9997.000000</td>\n",
       "      <td>9997.000000</td>\n",
       "      <td>9997.000000</td>\n",
       "    </tr>\n",
       "    <tr>\n",
       "      <th>mean</th>\n",
       "      <td>4.501350</td>\n",
       "      <td>199.946584</td>\n",
       "      <td>19.979235</td>\n",
       "      <td>2000.022107</td>\n",
       "      <td>0.499850</td>\n",
       "      <td>5.032442</td>\n",
       "      <td>0.989497</td>\n",
       "      <td>67.641508</td>\n",
       "    </tr>\n",
       "    <tr>\n",
       "      <th>std</th>\n",
       "      <td>3.468449</td>\n",
       "      <td>57.639987</td>\n",
       "      <td>5.790049</td>\n",
       "      <td>575.329402</td>\n",
       "      <td>0.500025</td>\n",
       "      <td>2.882461</td>\n",
       "      <td>0.812067</td>\n",
       "      <td>13.374672</td>\n",
       "    </tr>\n",
       "    <tr>\n",
       "      <th>min</th>\n",
       "      <td>0.000000</td>\n",
       "      <td>100.000000</td>\n",
       "      <td>0.000000</td>\n",
       "      <td>4.000000</td>\n",
       "      <td>0.000000</td>\n",
       "      <td>0.001195</td>\n",
       "      <td>0.000000</td>\n",
       "      <td>30.857090</td>\n",
       "    </tr>\n",
       "    <tr>\n",
       "      <th>25%</th>\n",
       "      <td>2.000000</td>\n",
       "      <td>149.000000</td>\n",
       "      <td>14.928952</td>\n",
       "      <td>1505.000000</td>\n",
       "      <td>0.000000</td>\n",
       "      <td>2.541788</td>\n",
       "      <td>0.000000</td>\n",
       "      <td>57.394671</td>\n",
       "    </tr>\n",
       "    <tr>\n",
       "      <th>50%</th>\n",
       "      <td>4.000000</td>\n",
       "      <td>201.000000</td>\n",
       "      <td>20.000292</td>\n",
       "      <td>1999.000000</td>\n",
       "      <td>0.000000</td>\n",
       "      <td>5.008268</td>\n",
       "      <td>1.000000</td>\n",
       "      <td>67.877814</td>\n",
       "    </tr>\n",
       "    <tr>\n",
       "      <th>75%</th>\n",
       "      <td>7.000000</td>\n",
       "      <td>250.000000</td>\n",
       "      <td>24.977627</td>\n",
       "      <td>2490.000000</td>\n",
       "      <td>1.000000</td>\n",
       "      <td>7.520357</td>\n",
       "      <td>2.000000</td>\n",
       "      <td>77.833857</td>\n",
       "    </tr>\n",
       "    <tr>\n",
       "      <th>max</th>\n",
       "      <td>200.000000</td>\n",
       "      <td>299.000000</td>\n",
       "      <td>70.002000</td>\n",
       "      <td>2999.000000</td>\n",
       "      <td>1.000000</td>\n",
       "      <td>9.999848</td>\n",
       "      <td>2.000000</td>\n",
       "      <td>103.809450</td>\n",
       "    </tr>\n",
       "  </tbody>\n",
       "</table>\n",
       "</div>"
      ],
      "text/plain": [
       "             data1        data2        data4        data5        data6  \\\n",
       "count  9997.000000  9997.000000  9997.000000  9997.000000  9997.000000   \n",
       "mean      4.501350   199.946584    19.979235  2000.022107     0.499850   \n",
       "std       3.468449    57.639987     5.790049   575.329402     0.500025   \n",
       "min       0.000000   100.000000     0.000000     4.000000     0.000000   \n",
       "25%       2.000000   149.000000    14.928952  1505.000000     0.000000   \n",
       "50%       4.000000   201.000000    20.000292  1999.000000     0.000000   \n",
       "75%       7.000000   250.000000    24.977627  2490.000000     1.000000   \n",
       "max     200.000000   299.000000    70.002000  2999.000000     1.000000   \n",
       "\n",
       "             data7        data8       output  \n",
       "count  9997.000000  9997.000000  9997.000000  \n",
       "mean      5.032442     0.989497    67.641508  \n",
       "std       2.882461     0.812067    13.374672  \n",
       "min       0.001195     0.000000    30.857090  \n",
       "25%       2.541788     0.000000    57.394671  \n",
       "50%       5.008268     1.000000    67.877814  \n",
       "75%       7.520357     2.000000    77.833857  \n",
       "max       9.999848     2.000000   103.809450  "
      ]
     },
     "execution_count": 13,
     "metadata": {},
     "output_type": "execute_result"
    }
   ],
   "source": [
    "df.describe()"
   ]
  },
  {
   "cell_type": "code",
   "execution_count": 5,
   "metadata": {},
   "outputs": [
    {
     "data": {
      "text/plain": [
       "data1     10000\n",
       "data2     10000\n",
       "data3     10000\n",
       "data4     10000\n",
       "data5      9999\n",
       "data6      9997\n",
       "data7      9998\n",
       "data8      9999\n",
       "data9      9999\n",
       "data10     9999\n",
       "output     9999\n",
       "dtype: int64"
      ]
     },
     "execution_count": 5,
     "metadata": {},
     "output_type": "execute_result"
    }
   ],
   "source": [
    "df.count()"
   ]
  },
  {
   "cell_type": "code",
   "execution_count": 6,
   "metadata": {},
   "outputs": [
    {
     "data": {
      "text/plain": [
       "data1     0\n",
       "data2     0\n",
       "data3     0\n",
       "data4     0\n",
       "data5     1\n",
       "data6     3\n",
       "data7     2\n",
       "data8     1\n",
       "data9     1\n",
       "data10    1\n",
       "output    1\n",
       "dtype: int64"
      ]
     },
     "execution_count": 6,
     "metadata": {},
     "output_type": "execute_result"
    }
   ],
   "source": [
    "#Checking any data is missing\n",
    "df.isnull().sum()"
   ]
  },
  {
   "cell_type": "code",
   "execution_count": 8,
   "metadata": {},
   "outputs": [],
   "source": [
    "#df.corr()"
   ]
  },
  {
   "cell_type": "code",
   "execution_count": 16,
   "metadata": {},
   "outputs": [
    {
     "name": "stdout",
     "output_type": "stream",
     "text": [
      "<class 'pandas.core.frame.DataFrame'>\n",
      "Int64Index: 9997 entries, 0 to 9999\n",
      "Data columns (total 11 columns):\n",
      " #   Column  Non-Null Count  Dtype  \n",
      "---  ------  --------------  -----  \n",
      " 0   data1   9997 non-null   int64  \n",
      " 1   data2   9997 non-null   int64  \n",
      " 2   data3   9997 non-null   object \n",
      " 3   data4   9997 non-null   float64\n",
      " 4   data5   9997 non-null   float64\n",
      " 5   data6   9997 non-null   float64\n",
      " 6   data7   9997 non-null   float64\n",
      " 7   data8   9997 non-null   float64\n",
      " 8   data9   9997 non-null   object \n",
      " 9   data10  9997 non-null   object \n",
      " 10  output  9997 non-null   float64\n",
      "dtypes: float64(6), int64(2), object(3)\n",
      "memory usage: 937.2+ KB\n"
     ]
    }
   ],
   "source": [
    "df.info()"
   ]
  },
  {
   "cell_type": "code",
   "execution_count": 9,
   "metadata": {},
   "outputs": [
    {
     "data": {
      "text/html": [
       "<div>\n",
       "<style scoped>\n",
       "    .dataframe tbody tr th:only-of-type {\n",
       "        vertical-align: middle;\n",
       "    }\n",
       "\n",
       "    .dataframe tbody tr th {\n",
       "        vertical-align: top;\n",
       "    }\n",
       "\n",
       "    .dataframe thead th {\n",
       "        text-align: right;\n",
       "    }\n",
       "</style>\n",
       "<table border=\"1\" class=\"dataframe\">\n",
       "  <thead>\n",
       "    <tr style=\"text-align: right;\">\n",
       "      <th></th>\n",
       "      <th>data1</th>\n",
       "      <th>data2</th>\n",
       "      <th>data3</th>\n",
       "      <th>data4</th>\n",
       "      <th>data5</th>\n",
       "      <th>data6</th>\n",
       "      <th>data7</th>\n",
       "      <th>data8</th>\n",
       "      <th>output</th>\n",
       "    </tr>\n",
       "  </thead>\n",
       "  <tbody>\n",
       "    <tr>\n",
       "      <th>0</th>\n",
       "      <td>8</td>\n",
       "      <td>279</td>\n",
       "      <td>C</td>\n",
       "      <td>14.451155</td>\n",
       "      <td>1139.0</td>\n",
       "      <td>1.0</td>\n",
       "      <td>9.302908</td>\n",
       "      <td>1.0</td>\n",
       "      <td>86.108947</td>\n",
       "    </tr>\n",
       "    <tr>\n",
       "      <th>1</th>\n",
       "      <td>1</td>\n",
       "      <td>108</td>\n",
       "      <td>H</td>\n",
       "      <td>14.207448</td>\n",
       "      <td>1656.0</td>\n",
       "      <td>1.0</td>\n",
       "      <td>7.220130</td>\n",
       "      <td>0.0</td>\n",
       "      <td>42.606833</td>\n",
       "    </tr>\n",
       "    <tr>\n",
       "      <th>2</th>\n",
       "      <td>8</td>\n",
       "      <td>258</td>\n",
       "      <td>A</td>\n",
       "      <td>19.220830</td>\n",
       "      <td>2817.0</td>\n",
       "      <td>1.0</td>\n",
       "      <td>8.727214</td>\n",
       "      <td>1.0</td>\n",
       "      <td>85.625961</td>\n",
       "    </tr>\n",
       "    <tr>\n",
       "      <th>3</th>\n",
       "      <td>4</td>\n",
       "      <td>147</td>\n",
       "      <td>A</td>\n",
       "      <td>15.752732</td>\n",
       "      <td>1948.0</td>\n",
       "      <td>1.0</td>\n",
       "      <td>6.078818</td>\n",
       "      <td>1.0</td>\n",
       "      <td>53.656277</td>\n",
       "    </tr>\n",
       "    <tr>\n",
       "      <th>4</th>\n",
       "      <td>5</td>\n",
       "      <td>230</td>\n",
       "      <td>H</td>\n",
       "      <td>10.195407</td>\n",
       "      <td>1336.0</td>\n",
       "      <td>1.0</td>\n",
       "      <td>4.749185</td>\n",
       "      <td>0.0</td>\n",
       "      <td>64.925051</td>\n",
       "    </tr>\n",
       "  </tbody>\n",
       "</table>\n",
       "</div>"
      ],
      "text/plain": [
       "   data1  data2 data3      data4   data5  data6     data7  data8     output\n",
       "0      8    279     C  14.451155  1139.0    1.0  9.302908    1.0  86.108947\n",
       "1      1    108     H  14.207448  1656.0    1.0  7.220130    0.0  42.606833\n",
       "2      8    258     A  19.220830  2817.0    1.0  8.727214    1.0  85.625961\n",
       "3      4    147     A  15.752732  1948.0    1.0  6.078818    1.0  53.656277\n",
       "4      5    230     H  10.195407  1336.0    1.0  4.749185    0.0  64.925051"
      ]
     },
     "execution_count": 9,
     "metadata": {},
     "output_type": "execute_result"
    }
   ],
   "source": [
    "df.drop('data9',axis =1,inplace = True)\n",
    "df.drop('data10',axis =1,inplace = True)\n",
    "df.head()"
   ]
  },
  {
   "cell_type": "code",
   "execution_count": 11,
   "metadata": {},
   "outputs": [],
   "source": [
    "df.dropna(subset = ['output'], inplace=True)"
   ]
  },
  {
   "cell_type": "code",
   "execution_count": 12,
   "metadata": {},
   "outputs": [
    {
     "name": "stdout",
     "output_type": "stream",
     "text": [
      "      data1  data2 data3      data4   data5  data6     data7  data8     output\n",
      "0         8    279     C  14.451155  1139.0    1.0  9.302908    1.0  86.108947\n",
      "1         1    108     H  14.207448  1656.0    1.0  7.220130    0.0  42.606833\n",
      "2         8    258     A  19.220830  2817.0    1.0  8.727214    1.0  85.625961\n",
      "3         4    147     A  15.752732  1948.0    1.0  6.078818    1.0  53.656277\n",
      "4         5    230     H  10.195407  1336.0    1.0  4.749185    0.0  64.925051\n",
      "...     ...    ...   ...        ...     ...    ...       ...    ...        ...\n",
      "9995      9    263     A  16.604215  1070.0    0.0  8.979149    2.0  85.922943\n",
      "9996      5    280     E  28.758911  2652.0    0.0  3.574129    0.0  90.857149\n",
      "9997      6    188     D  15.963267  1359.0    0.0  2.880019    0.0  61.246960\n",
      "9998      1    132     H  11.683401  1793.0    0.0  6.983192    2.0  45.298253\n",
      "9999      5    264     A  21.176115  1792.0    0.0  8.276101    2.0  85.534604\n",
      "\n",
      "[9999 rows x 9 columns]\n"
     ]
    }
   ],
   "source": [
    "print(df.iloc[:,:])"
   ]
  },
  {
   "cell_type": "code",
   "execution_count": 14,
   "metadata": {},
   "outputs": [
    {
     "name": "stdout",
     "output_type": "stream",
     "text": [
      "      data1  data2 data3      data4   data5  data6     data7  data8     output\n",
      "0         8    279     C  14.451155  1139.0    1.0  9.302908    1.0  86.108947\n",
      "1         1    108     H  14.207448  1656.0    1.0  7.220130    0.0  42.606833\n",
      "2         8    258     A  19.220830  2817.0    1.0  8.727214    1.0  85.625961\n",
      "3         4    147     A  15.752732  1948.0    1.0  6.078818    1.0  53.656277\n",
      "4         5    230     H  10.195407  1336.0    1.0  4.749185    0.0  64.925051\n",
      "...     ...    ...   ...        ...     ...    ...       ...    ...        ...\n",
      "9995      9    263     A  16.604215  1070.0    0.0  8.979149    2.0  85.922943\n",
      "9996      5    280     E  28.758911  2652.0    0.0  3.574129    0.0  90.857149\n",
      "9997      6    188     D  15.963267  1359.0    0.0  2.880019    0.0  61.246960\n",
      "9998      1    132     H  11.683401  1793.0    0.0  6.983192    2.0  45.298253\n",
      "9999      5    264     A  21.176115  1792.0    0.0  8.276101    2.0  85.534604\n",
      "\n",
      "[9999 rows x 9 columns]\n"
     ]
    }
   ],
   "source": [
    "df['data6'].fillna(method='ffill',inplace=True)\n",
    "print(df.iloc[:,:])"
   ]
  },
  {
   "cell_type": "code",
   "execution_count": 15,
   "metadata": {},
   "outputs": [
    {
     "name": "stdout",
     "output_type": "stream",
     "text": [
      "      data1  data2 data3      data4   data5  data6     data7  data8     output\n",
      "0         8    279     C  14.451155  1139.0    1.0  9.302908    1.0  86.108947\n",
      "1         1    108     H  14.207448  1656.0    1.0  7.220130    0.0  42.606833\n",
      "2         8    258     A  19.220830  2817.0    1.0  8.727214    1.0  85.625961\n",
      "3         4    147     A  15.752732  1948.0    1.0  6.078818    1.0  53.656277\n",
      "4         5    230     H  10.195407  1336.0    1.0  4.749185    0.0  64.925051\n",
      "...     ...    ...   ...        ...     ...    ...       ...    ...        ...\n",
      "9995      9    263     A  16.604215  1070.0    0.0  8.979149    2.0  85.922943\n",
      "9996      5    280     E  28.758911  2652.0    0.0  3.574129    0.0  90.857149\n",
      "9997      6    188     D  15.963267  1359.0    0.0  2.880019    0.0  61.246960\n",
      "9998      1    132     H  11.683401  1793.0    0.0  6.983192    2.0  45.298253\n",
      "9999      5    264     A  21.176115  1792.0    0.0  8.276101    2.0  85.534604\n",
      "\n",
      "[9999 rows x 9 columns]\n"
     ]
    }
   ],
   "source": [
    "df=df.fillna(df.mean())\n",
    "print(df.iloc[:,:])"
   ]
  },
  {
   "cell_type": "code",
   "execution_count": 16,
   "metadata": {},
   "outputs": [
    {
     "data": {
      "text/plain": [
       "data1     0\n",
       "data2     0\n",
       "data3     0\n",
       "data4     0\n",
       "data5     0\n",
       "data6     0\n",
       "data7     0\n",
       "data8     0\n",
       "output    0\n",
       "dtype: int64"
      ]
     },
     "execution_count": 16,
     "metadata": {},
     "output_type": "execute_result"
    }
   ],
   "source": [
    "df.isnull().sum()"
   ]
  },
  {
   "cell_type": "code",
   "execution_count": 20,
   "metadata": {},
   "outputs": [
    {
     "data": {
      "text/html": [
       "<div>\n",
       "<style scoped>\n",
       "    .dataframe tbody tr th:only-of-type {\n",
       "        vertical-align: middle;\n",
       "    }\n",
       "\n",
       "    .dataframe tbody tr th {\n",
       "        vertical-align: top;\n",
       "    }\n",
       "\n",
       "    .dataframe thead th {\n",
       "        text-align: right;\n",
       "    }\n",
       "</style>\n",
       "<table border=\"1\" class=\"dataframe\">\n",
       "  <thead>\n",
       "    <tr style=\"text-align: right;\">\n",
       "      <th></th>\n",
       "      <th>data1</th>\n",
       "      <th>data2</th>\n",
       "      <th>data3</th>\n",
       "      <th>data4</th>\n",
       "      <th>data5</th>\n",
       "      <th>data6</th>\n",
       "      <th>data7</th>\n",
       "      <th>data8</th>\n",
       "      <th>output</th>\n",
       "    </tr>\n",
       "  </thead>\n",
       "  <tbody>\n",
       "    <tr>\n",
       "      <th>0</th>\n",
       "      <td>8</td>\n",
       "      <td>279</td>\n",
       "      <td>2</td>\n",
       "      <td>14.451155</td>\n",
       "      <td>1139.0</td>\n",
       "      <td>1.0</td>\n",
       "      <td>9.302908</td>\n",
       "      <td>1.0</td>\n",
       "      <td>86.108947</td>\n",
       "    </tr>\n",
       "    <tr>\n",
       "      <th>1</th>\n",
       "      <td>1</td>\n",
       "      <td>108</td>\n",
       "      <td>7</td>\n",
       "      <td>14.207448</td>\n",
       "      <td>1656.0</td>\n",
       "      <td>1.0</td>\n",
       "      <td>7.220130</td>\n",
       "      <td>0.0</td>\n",
       "      <td>42.606833</td>\n",
       "    </tr>\n",
       "    <tr>\n",
       "      <th>2</th>\n",
       "      <td>8</td>\n",
       "      <td>258</td>\n",
       "      <td>0</td>\n",
       "      <td>19.220830</td>\n",
       "      <td>2817.0</td>\n",
       "      <td>1.0</td>\n",
       "      <td>8.727214</td>\n",
       "      <td>1.0</td>\n",
       "      <td>85.625961</td>\n",
       "    </tr>\n",
       "    <tr>\n",
       "      <th>3</th>\n",
       "      <td>4</td>\n",
       "      <td>147</td>\n",
       "      <td>0</td>\n",
       "      <td>15.752732</td>\n",
       "      <td>1948.0</td>\n",
       "      <td>1.0</td>\n",
       "      <td>6.078818</td>\n",
       "      <td>1.0</td>\n",
       "      <td>53.656277</td>\n",
       "    </tr>\n",
       "    <tr>\n",
       "      <th>4</th>\n",
       "      <td>5</td>\n",
       "      <td>230</td>\n",
       "      <td>7</td>\n",
       "      <td>10.195407</td>\n",
       "      <td>1336.0</td>\n",
       "      <td>1.0</td>\n",
       "      <td>4.749185</td>\n",
       "      <td>0.0</td>\n",
       "      <td>64.925051</td>\n",
       "    </tr>\n",
       "  </tbody>\n",
       "</table>\n",
       "</div>"
      ],
      "text/plain": [
       "   data1  data2  data3      data4   data5  data6     data7  data8     output\n",
       "0      8    279      2  14.451155  1139.0    1.0  9.302908    1.0  86.108947\n",
       "1      1    108      7  14.207448  1656.0    1.0  7.220130    0.0  42.606833\n",
       "2      8    258      0  19.220830  2817.0    1.0  8.727214    1.0  85.625961\n",
       "3      4    147      0  15.752732  1948.0    1.0  6.078818    1.0  53.656277\n",
       "4      5    230      7  10.195407  1336.0    1.0  4.749185    0.0  64.925051"
      ]
     },
     "execution_count": 20,
     "metadata": {},
     "output_type": "execute_result"
    }
   ],
   "source": [
    "from sklearn.preprocessing import LabelEncoder\n",
    "labelencoder=LabelEncoder()\n",
    "\n",
    "df['data3']=labelencoder.fit_transform(df['data3'])\n",
    "df.head()"
   ]
  },
  {
   "cell_type": "code",
   "execution_count": 34,
   "metadata": {},
   "outputs": [
    {
     "data": {
      "image/png": "[encoded data removed]",
      "text/plain": [
       "<Figure size 720x1080 with 9 Axes>"
      ]
     },
     "metadata": {
      "needs_background": "light"
     },
     "output_type": "display_data"
    }
   ],
   "source": [
    "#checking for outliers\n",
    "fig,ax=plt.subplots(ncols=3,nrows=3,figsize=(10,15))\n",
    "index=0\n",
    "ax=ax.flatten()\n",
    "\n",
    "for col,value in df.items():\n",
    "        sns.boxplot(y=col,data=df, ax=ax[index])\n",
    "        index+=1\n",
    "plt.tight_layout(pad=0.5,w_pad=0.7,h_pad=5.0)        \n",
    "plt.show()"
   ]
  },
  {
   "cell_type": "code",
   "execution_count": 24,
   "metadata": {},
   "outputs": [],
   "source": [
    "#seperating X and y\n",
    "X = df.iloc[:,:-1].values\n",
    "y = df.iloc[:,-1].values"
   ]
  },
  {
   "cell_type": "code",
   "execution_count": 25,
   "metadata": {},
   "outputs": [
    {
     "data": {
      "text/plain": [
       "array([[ 1.00894945,  1.37168621, -0.66190154, ...,  1.00010002,\n",
       "         1.48164814,  0.01268488],\n",
       "       [-1.00932431, -1.595202  ,  1.52064479, ...,  1.00010002,\n",
       "         0.75898884, -1.21873404],\n",
       "       [ 1.00894945,  1.00733152, -1.53492007, ...,  1.00010002,\n",
       "         1.28190029,  0.01268488],\n",
       "       ...,\n",
       "       [ 0.4322998 , -0.20718412, -0.22539227, ..., -0.99989999,\n",
       "        -0.74689526, -1.21873404],\n",
       "       [-1.00932431, -1.17879663,  1.52064479, ..., -0.99989999,\n",
       "         0.67677854,  1.2441038 ],\n",
       "       [ 0.14397498,  1.11143286, -1.53492007, ..., -0.99989999,\n",
       "         1.12537783,  1.2441038 ]])"
      ]
     },
     "execution_count": 25,
     "metadata": {},
     "output_type": "execute_result"
    }
   ],
   "source": [
    "from sklearn import preprocessing\n",
    "X =preprocessing.StandardScaler().fit_transform(X)\n",
    "X"
   ]
  },
  {
   "cell_type": "code",
   "execution_count": 26,
   "metadata": {},
   "outputs": [],
   "source": [
    "#dividing into train and test\n",
    "from sklearn.model_selection import train_test_split\n",
    "random_state=2\n",
    "X_train, X_test, y_train, y_test = train_test_split(X, y, test_size=0.3, random_state=random_state,shuffle=True)"
   ]
  },
  {
   "cell_type": "code",
   "execution_count": 27,
   "metadata": {},
   "outputs": [],
   "source": [
    "from sklearn.linear_model import LinearRegression"
   ]
  },
  {
   "cell_type": "code",
   "execution_count": 28,
   "metadata": {},
   "outputs": [],
   "source": [
    "LR = LinearRegression()"
   ]
  },
  {
   "cell_type": "code",
   "execution_count": 29,
   "metadata": {},
   "outputs": [
    {
     "data": {
      "text/plain": [
       "LinearRegression()"
      ]
     },
     "execution_count": 29,
     "metadata": {},
     "output_type": "execute_result"
    }
   ],
   "source": [
    "LR.fit(X_train,y_train)"
   ]
  },
  {
   "cell_type": "code",
   "execution_count": 30,
   "metadata": {},
   "outputs": [
    {
     "name": "stdout",
     "output_type": "stream",
     "text": [
      "[ 3.46673522e+00  1.15253912e+01  2.23929536e-03  5.21260077e+00\n",
      "  1.25106534e-04 -1.60231512e-01  2.88289555e+00 -5.86010345e-04]\n",
      "67.66452951102507\n"
     ]
    }
   ],
   "source": [
    "#prediction\n",
    "y_pred = LR.predict(X_test)\n",
    "print(LR.coef_)\n",
    "print(LR.intercept_)"
   ]
  },
  {
   "cell_type": "code",
   "execution_count": 31,
   "metadata": {},
   "outputs": [
    {
     "data": {
      "text/html": [
       "<div>\n",
       "<style scoped>\n",
       "    .dataframe tbody tr th:only-of-type {\n",
       "        vertical-align: middle;\n",
       "    }\n",
       "\n",
       "    .dataframe tbody tr th {\n",
       "        vertical-align: top;\n",
       "    }\n",
       "\n",
       "    .dataframe thead th {\n",
       "        text-align: right;\n",
       "    }\n",
       "</style>\n",
       "<table border=\"1\" class=\"dataframe\">\n",
       "  <thead>\n",
       "    <tr style=\"text-align: right;\">\n",
       "      <th></th>\n",
       "      <th>y_test</th>\n",
       "      <th>y_pred</th>\n",
       "    </tr>\n",
       "  </thead>\n",
       "  <tbody>\n",
       "    <tr>\n",
       "      <th>0</th>\n",
       "      <td>41.575494</td>\n",
       "      <td>41.497238</td>\n",
       "    </tr>\n",
       "    <tr>\n",
       "      <th>1</th>\n",
       "      <td>54.938858</td>\n",
       "      <td>54.935683</td>\n",
       "    </tr>\n",
       "    <tr>\n",
       "      <th>2</th>\n",
       "      <td>57.878222</td>\n",
       "      <td>57.879250</td>\n",
       "    </tr>\n",
       "    <tr>\n",
       "      <th>3</th>\n",
       "      <td>82.598797</td>\n",
       "      <td>82.596047</td>\n",
       "    </tr>\n",
       "    <tr>\n",
       "      <th>4</th>\n",
       "      <td>93.880566</td>\n",
       "      <td>93.878416</td>\n",
       "    </tr>\n",
       "    <tr>\n",
       "      <th>...</th>\n",
       "      <td>...</td>\n",
       "      <td>...</td>\n",
       "    </tr>\n",
       "    <tr>\n",
       "      <th>2995</th>\n",
       "      <td>61.272043</td>\n",
       "      <td>61.194097</td>\n",
       "    </tr>\n",
       "    <tr>\n",
       "      <th>2996</th>\n",
       "      <td>75.476982</td>\n",
       "      <td>75.477106</td>\n",
       "    </tr>\n",
       "    <tr>\n",
       "      <th>2997</th>\n",
       "      <td>62.051540</td>\n",
       "      <td>62.050465</td>\n",
       "    </tr>\n",
       "    <tr>\n",
       "      <th>2998</th>\n",
       "      <td>77.386843</td>\n",
       "      <td>77.304919</td>\n",
       "    </tr>\n",
       "    <tr>\n",
       "      <th>2999</th>\n",
       "      <td>77.532969</td>\n",
       "      <td>77.532625</td>\n",
       "    </tr>\n",
       "  </tbody>\n",
       "</table>\n",
       "<p>3000 rows × 2 columns</p>\n",
       "</div>"
      ],
      "text/plain": [
       "         y_test     y_pred\n",
       "0     41.575494  41.497238\n",
       "1     54.938858  54.935683\n",
       "2     57.878222  57.879250\n",
       "3     82.598797  82.596047\n",
       "4     93.880566  93.878416\n",
       "...         ...        ...\n",
       "2995  61.272043  61.194097\n",
       "2996  75.476982  75.477106\n",
       "2997  62.051540  62.050465\n",
       "2998  77.386843  77.304919\n",
       "2999  77.532969  77.532625\n",
       "\n",
       "[3000 rows x 2 columns]"
      ]
     },
     "execution_count": 31,
     "metadata": {},
     "output_type": "execute_result"
    }
   ],
   "source": [
    "prediction_output =pd.DataFrame(data=[y_test,y_pred],index=['y_test','y_pred'])\n",
    "prediction_output.transpose()"
   ]
  },
  {
   "cell_type": "code",
   "execution_count": 37,
   "metadata": {},
   "outputs": [],
   "source": [
    "test=pd.read_csv(\"F:\\\\regression_test.csv\")"
   ]
  },
  {
   "cell_type": "code",
   "execution_count": 38,
   "metadata": {},
   "outputs": [
    {
     "data": {
      "text/html": [
       "<div>\n",
       "<style scoped>\n",
       "    .dataframe tbody tr th:only-of-type {\n",
       "        vertical-align: middle;\n",
       "    }\n",
       "\n",
       "    .dataframe tbody tr th {\n",
       "        vertical-align: top;\n",
       "    }\n",
       "\n",
       "    .dataframe thead th {\n",
       "        text-align: right;\n",
       "    }\n",
       "</style>\n",
       "<table border=\"1\" class=\"dataframe\">\n",
       "  <thead>\n",
       "    <tr style=\"text-align: right;\">\n",
       "      <th></th>\n",
       "      <th>data1</th>\n",
       "      <th>data2</th>\n",
       "      <th>data3</th>\n",
       "      <th>data4</th>\n",
       "      <th>data5</th>\n",
       "      <th>data6</th>\n",
       "      <th>data7</th>\n",
       "      <th>data8</th>\n",
       "      <th>data9</th>\n",
       "      <th>data10</th>\n",
       "    </tr>\n",
       "  </thead>\n",
       "  <tbody>\n",
       "    <tr>\n",
       "      <th>0</th>\n",
       "      <td>7</td>\n",
       "      <td>195</td>\n",
       "      <td>A</td>\n",
       "      <td>29.038043</td>\n",
       "      <td>2725</td>\n",
       "      <td>1</td>\n",
       "      <td>6.145731</td>\n",
       "      <td>2</td>\n",
       "      <td>M</td>\n",
       "      <td>p</td>\n",
       "    </tr>\n",
       "    <tr>\n",
       "      <th>1</th>\n",
       "      <td>9</td>\n",
       "      <td>109</td>\n",
       "      <td>F</td>\n",
       "      <td>20.221431</td>\n",
       "      <td>1184</td>\n",
       "      <td>1</td>\n",
       "      <td>9.334184</td>\n",
       "      <td>2</td>\n",
       "      <td>M</td>\n",
       "      <td>p</td>\n",
       "    </tr>\n",
       "    <tr>\n",
       "      <th>2</th>\n",
       "      <td>0</td>\n",
       "      <td>126</td>\n",
       "      <td>C</td>\n",
       "      <td>26.477532</td>\n",
       "      <td>2975</td>\n",
       "      <td>1</td>\n",
       "      <td>9.021806</td>\n",
       "      <td>1</td>\n",
       "      <td>M</td>\n",
       "      <td>p</td>\n",
       "    </tr>\n",
       "    <tr>\n",
       "      <th>3</th>\n",
       "      <td>2</td>\n",
       "      <td>209</td>\n",
       "      <td>E</td>\n",
       "      <td>13.445450</td>\n",
       "      <td>1067</td>\n",
       "      <td>1</td>\n",
       "      <td>1.814993</td>\n",
       "      <td>0</td>\n",
       "      <td>M</td>\n",
       "      <td>p</td>\n",
       "    </tr>\n",
       "    <tr>\n",
       "      <th>4</th>\n",
       "      <td>5</td>\n",
       "      <td>268</td>\n",
       "      <td>B</td>\n",
       "      <td>25.065894</td>\n",
       "      <td>1336</td>\n",
       "      <td>1</td>\n",
       "      <td>1.639130</td>\n",
       "      <td>1</td>\n",
       "      <td>M</td>\n",
       "      <td>p</td>\n",
       "    </tr>\n",
       "  </tbody>\n",
       "</table>\n",
       "</div>"
      ],
      "text/plain": [
       "   data1  data2 data3      data4  data5  data6     data7  data8 data9 data10\n",
       "0      7    195     A  29.038043   2725      1  6.145731      2     M      p\n",
       "1      9    109     F  20.221431   1184      1  9.334184      2     M      p\n",
       "2      0    126     C  26.477532   2975      1  9.021806      1     M      p\n",
       "3      2    209     E  13.445450   1067      1  1.814993      0     M      p\n",
       "4      5    268     B  25.065894   1336      1  1.639130      1     M      p"
      ]
     },
     "execution_count": 38,
     "metadata": {},
     "output_type": "execute_result"
    }
   ],
   "source": [
    "test.head()"
   ]
  },
  {
   "cell_type": "code",
   "execution_count": 39,
   "metadata": {},
   "outputs": [
    {
     "data": {
      "text/plain": [
       "data1     0\n",
       "data2     0\n",
       "data3     0\n",
       "data4     0\n",
       "data5     0\n",
       "data6     0\n",
       "data7     0\n",
       "data8     0\n",
       "data9     0\n",
       "data10    0\n",
       "dtype: int64"
      ]
     },
     "execution_count": 39,
     "metadata": {},
     "output_type": "execute_result"
    }
   ],
   "source": [
    "test.isnull().sum()"
   ]
  },
  {
   "cell_type": "code",
   "execution_count": 40,
   "metadata": {},
   "outputs": [
    {
     "data": {
      "text/plain": [
       "data1     10000\n",
       "data2     10000\n",
       "data3     10000\n",
       "data4     10000\n",
       "data5     10000\n",
       "data6     10000\n",
       "data7     10000\n",
       "data8     10000\n",
       "data9     10000\n",
       "data10    10000\n",
       "dtype: int64"
      ]
     },
     "execution_count": 40,
     "metadata": {},
     "output_type": "execute_result"
    }
   ],
   "source": [
    "test.count()"
   ]
  },
  {
   "cell_type": "code",
   "execution_count": 41,
   "metadata": {},
   "outputs": [],
   "source": [
    "test['data3']=labelencoder.fit_transform(test['data3'])"
   ]
  },
  {
   "cell_type": "code",
   "execution_count": 42,
   "metadata": {},
   "outputs": [
    {
     "data": {
      "text/html": [
       "<div>\n",
       "<style scoped>\n",
       "    .dataframe tbody tr th:only-of-type {\n",
       "        vertical-align: middle;\n",
       "    }\n",
       "\n",
       "    .dataframe tbody tr th {\n",
       "        vertical-align: top;\n",
       "    }\n",
       "\n",
       "    .dataframe thead th {\n",
       "        text-align: right;\n",
       "    }\n",
       "</style>\n",
       "<table border=\"1\" class=\"dataframe\">\n",
       "  <thead>\n",
       "    <tr style=\"text-align: right;\">\n",
       "      <th></th>\n",
       "      <th>data1</th>\n",
       "      <th>data2</th>\n",
       "      <th>data3</th>\n",
       "      <th>data4</th>\n",
       "      <th>data5</th>\n",
       "      <th>data6</th>\n",
       "      <th>data7</th>\n",
       "      <th>data8</th>\n",
       "    </tr>\n",
       "  </thead>\n",
       "  <tbody>\n",
       "    <tr>\n",
       "      <th>0</th>\n",
       "      <td>7</td>\n",
       "      <td>195</td>\n",
       "      <td>0</td>\n",
       "      <td>29.038043</td>\n",
       "      <td>2725</td>\n",
       "      <td>1</td>\n",
       "      <td>6.145731</td>\n",
       "      <td>2</td>\n",
       "    </tr>\n",
       "    <tr>\n",
       "      <th>1</th>\n",
       "      <td>9</td>\n",
       "      <td>109</td>\n",
       "      <td>5</td>\n",
       "      <td>20.221431</td>\n",
       "      <td>1184</td>\n",
       "      <td>1</td>\n",
       "      <td>9.334184</td>\n",
       "      <td>2</td>\n",
       "    </tr>\n",
       "    <tr>\n",
       "      <th>2</th>\n",
       "      <td>0</td>\n",
       "      <td>126</td>\n",
       "      <td>2</td>\n",
       "      <td>26.477532</td>\n",
       "      <td>2975</td>\n",
       "      <td>1</td>\n",
       "      <td>9.021806</td>\n",
       "      <td>1</td>\n",
       "    </tr>\n",
       "    <tr>\n",
       "      <th>3</th>\n",
       "      <td>2</td>\n",
       "      <td>209</td>\n",
       "      <td>4</td>\n",
       "      <td>13.445450</td>\n",
       "      <td>1067</td>\n",
       "      <td>1</td>\n",
       "      <td>1.814993</td>\n",
       "      <td>0</td>\n",
       "    </tr>\n",
       "    <tr>\n",
       "      <th>4</th>\n",
       "      <td>5</td>\n",
       "      <td>268</td>\n",
       "      <td>1</td>\n",
       "      <td>25.065894</td>\n",
       "      <td>1336</td>\n",
       "      <td>1</td>\n",
       "      <td>1.639130</td>\n",
       "      <td>1</td>\n",
       "    </tr>\n",
       "  </tbody>\n",
       "</table>\n",
       "</div>"
      ],
      "text/plain": [
       "   data1  data2  data3      data4  data5  data6     data7  data8\n",
       "0      7    195      0  29.038043   2725      1  6.145731      2\n",
       "1      9    109      5  20.221431   1184      1  9.334184      2\n",
       "2      0    126      2  26.477532   2975      1  9.021806      1\n",
       "3      2    209      4  13.445450   1067      1  1.814993      0\n",
       "4      5    268      1  25.065894   1336      1  1.639130      1"
      ]
     },
     "execution_count": 42,
     "metadata": {},
     "output_type": "execute_result"
    }
   ],
   "source": [
    "test.drop('data9',axis =1,inplace = True)\n",
    "test.drop('data10',axis =1,inplace = True)\n",
    "test.head()"
   ]
  },
  {
   "cell_type": "code",
   "execution_count": 43,
   "metadata": {},
   "outputs": [],
   "source": [
    "Testing = test.iloc[:].values"
   ]
  },
  {
   "cell_type": "code",
   "execution_count": 44,
   "metadata": {},
   "outputs": [
    {
     "name": "stdout",
     "output_type": "stream",
     "text": [
      "[2508.64369923 1487.44643149 1684.1054034  ... 2171.0712656  3605.09447156\n",
      " 3453.12840254]\n"
     ]
    }
   ],
   "source": [
    "Testing_Output = LR.predict(Testing)\n",
    "print(Testing_Output)"
   ]
  },
  {
   "cell_type": "code",
   "execution_count": 52,
   "metadata": {},
   "outputs": [
    {
     "data": {
      "text/html": [
       "<div>\n",
       "<style scoped>\n",
       "    .dataframe tbody tr th:only-of-type {\n",
       "        vertical-align: middle;\n",
       "    }\n",
       "\n",
       "    .dataframe tbody tr th {\n",
       "        vertical-align: top;\n",
       "    }\n",
       "\n",
       "    .dataframe thead th {\n",
       "        text-align: right;\n",
       "    }\n",
       "</style>\n",
       "<table border=\"1\" class=\"dataframe\">\n",
       "  <thead>\n",
       "    <tr style=\"text-align: right;\">\n",
       "      <th></th>\n",
       "      <th>data1</th>\n",
       "      <th>data2</th>\n",
       "      <th>data3</th>\n",
       "      <th>data4</th>\n",
       "      <th>data5</th>\n",
       "      <th>data6</th>\n",
       "      <th>data7</th>\n",
       "      <th>data8</th>\n",
       "      <th>data9</th>\n",
       "      <th>data10</th>\n",
       "      <th>Output</th>\n",
       "    </tr>\n",
       "  </thead>\n",
       "  <tbody>\n",
       "    <tr>\n",
       "      <th>0</th>\n",
       "      <td>7</td>\n",
       "      <td>195</td>\n",
       "      <td>A</td>\n",
       "      <td>29.038043</td>\n",
       "      <td>2725</td>\n",
       "      <td>1</td>\n",
       "      <td>6.145731</td>\n",
       "      <td>2</td>\n",
       "      <td>M</td>\n",
       "      <td>p</td>\n",
       "      <td>2508.643699</td>\n",
       "    </tr>\n",
       "    <tr>\n",
       "      <th>1</th>\n",
       "      <td>9</td>\n",
       "      <td>109</td>\n",
       "      <td>F</td>\n",
       "      <td>20.221431</td>\n",
       "      <td>1184</td>\n",
       "      <td>1</td>\n",
       "      <td>9.334184</td>\n",
       "      <td>2</td>\n",
       "      <td>M</td>\n",
       "      <td>p</td>\n",
       "      <td>1487.446431</td>\n",
       "    </tr>\n",
       "    <tr>\n",
       "      <th>2</th>\n",
       "      <td>0</td>\n",
       "      <td>126</td>\n",
       "      <td>C</td>\n",
       "      <td>26.477532</td>\n",
       "      <td>2975</td>\n",
       "      <td>1</td>\n",
       "      <td>9.021806</td>\n",
       "      <td>1</td>\n",
       "      <td>M</td>\n",
       "      <td>p</td>\n",
       "      <td>1684.105403</td>\n",
       "    </tr>\n",
       "    <tr>\n",
       "      <th>3</th>\n",
       "      <td>2</td>\n",
       "      <td>209</td>\n",
       "      <td>E</td>\n",
       "      <td>13.445450</td>\n",
       "      <td>1067</td>\n",
       "      <td>1</td>\n",
       "      <td>1.814993</td>\n",
       "      <td>0</td>\n",
       "      <td>M</td>\n",
       "      <td>p</td>\n",
       "      <td>2558.705176</td>\n",
       "    </tr>\n",
       "    <tr>\n",
       "      <th>4</th>\n",
       "      <td>5</td>\n",
       "      <td>268</td>\n",
       "      <td>B</td>\n",
       "      <td>25.065894</td>\n",
       "      <td>1336</td>\n",
       "      <td>1</td>\n",
       "      <td>1.639130</td>\n",
       "      <td>1</td>\n",
       "      <td>M</td>\n",
       "      <td>p</td>\n",
       "      <td>3309.195552</td>\n",
       "    </tr>\n",
       "  </tbody>\n",
       "</table>\n",
       "</div>"
      ],
      "text/plain": [
       "   data1  data2 data3      data4  data5  data6     data7  data8 data9 data10  \\\n",
       "0      7    195     A  29.038043   2725      1  6.145731      2     M      p   \n",
       "1      9    109     F  20.221431   1184      1  9.334184      2     M      p   \n",
       "2      0    126     C  26.477532   2975      1  9.021806      1     M      p   \n",
       "3      2    209     E  13.445450   1067      1  1.814993      0     M      p   \n",
       "4      5    268     B  25.065894   1336      1  1.639130      1     M      p   \n",
       "\n",
       "        Output  \n",
       "0  2508.643699  \n",
       "1  1487.446431  \n",
       "2  1684.105403  \n",
       "3  2558.705176  \n",
       "4  3309.195552  "
      ]
     },
     "execution_count": 52,
     "metadata": {},
     "output_type": "execute_result"
    }
   ],
   "source": [
    "Final_Output=pd.read_csv(\"F:\\\\regression_test.csv\")\n",
    "Final_Output[\"Output\"] = Testing_Output\n",
    "Final_Output.head()"
   ]
  },
  {
   "cell_type": "code",
   "execution_count": 54,
   "metadata": {},
   "outputs": [],
   "source": [
    "Final_Output.to_csv(\"F:\\\\regression_test_output.csv\")"
   ]
  },
  {
   "cell_type": "code",
   "execution_count": null,
   "metadata": {},
   "outputs": [],
   "source": []
  }
 ],
 "metadata": {
  "kernelspec": {
   "display_name": "Python 3",
   "language": "python",
   "name": "python3"
  },
  "language_info": {
   "codemirror_mode": {
    "name": "ipython",
    "version": 3
   },
   "file_extension": ".py",
   "mimetype": "text/x-python",
   "name": "python",
   "nbconvert_exporter": "python",
   "pygments_lexer": "ipython3",
   "version": "3.8.3"
  }
 },
 "nbformat": 4,
 "nbformat_minor": 4
}
